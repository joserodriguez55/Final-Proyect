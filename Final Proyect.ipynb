{
 "cells": [
  {
   "cell_type": "markdown",
   "metadata": {},
   "source": [
    "# Final Project"
   ]
  },
  {
   "cell_type": "markdown",
   "metadata": {},
   "source": [
    "This notebook serves as the final project for the Data Science Tools course. It aims to demonstrate proficiency in using various tools and technologies commonly employed in the field of data science. This project provides a comprehensive overview of essential programming languages, libraries, and tools crucial for data analysis, manipulation, visualization, and modeling, catering to an international audience."
   ]
  },
  {
   "cell_type": "markdown",
   "metadata": {},
   "source": [
    "Here's a list of some of the primary programming languages used in Data Science:\n",
    "\n",
    "*   Python\n",
    "*   R\n",
    "*   SQL\n",
    "*   Scala\n",
    "*   Java\n",
    "*   Julia"
   ]
  },
  {
   "cell_type": "markdown",
   "metadata": {},
   "source": [
    "Below are some commonly used Data Science libraries:\n",
    "\n",
    "*   **Python:** Pandas, NumPy, Scikit-learn, Matplotlib, Seaborn, TensorFlow, PyTorch\n",
    "*   **R:** ggplot2, dplyr, caret"
   ]
  },
  {
   "cell_type": "markdown",
   "metadata": {},
   "source": [
    "| Category             | Tool/Technology          | Description                                                                                             |\n",
    "|----------------------|--------------------------|---------------------------------------------------------------------------------------------------------|\n",
    "| Data Management      | Databases (e.g., MySQL, PostgreSQL, MongoDB) | Used for storing, retrieving, and managing data efficiently.                               |\n",
    "| Data Integration     | Apache Airflow, Apache Kafka        | Tools for orchestrating data workflows, pipelines, and real-time data streaming.                     |\n",
    "| Data Visualization   | Tableau, Power BI, Matplotlib, Seaborn, Plotly | Used for creating interactive visualizations, dashboards, and static plots for data exploration.|\n",
    "| Machine Learning     | Scikit-learn, TensorFlow, PyTorch        | Libraries and frameworks for developing and deploying machine learning models.                  |\n",
    "| Deep Learning        | TensorFlow, Keras, PyTorch | Specific frameworks and libraries for building deep learning models, including neural networks. |\n",
    "| Big Data Processing  | Apache Hadoop, Apache Spark           | Frameworks for processing and analyzing large datasets across distributed computing clusters.      |\n",
    "| Cloud Computing      | AWS, Azure, GCP                     | Provides scalable computing resources, storage, and services for data science tasks.             |\n",
    "| Code Asset Management| Git, GitHub, GitLab               | Used for version control, collaboration on code, and managing code repositories.                 |\n",
    "| Notebook Environments| Jupyter, Zeppelin, Google Colab     | Interactive environments for writing, executing code, and creating reports.                     |"
   ]
  },
  {
   "cell_type": "markdown",
   "metadata": {},
   "source": [
    "Below are a few examples of evaluating arithmetic expressions in Python.\n",
    "\n",
    "*   Addition: 2 + 3 = 5\n",
    "*   Subtraction: 5 - 2 = 3\n",
    "*   Multiplication: 4 * 6 = 24\n",
    "*   Division: 10 / 2 = 5\n",
    "*   Exponentiation: 2 ** 3 = 8"
   ]
  },
  {
   "cell_type": "code",
   "execution_count": null,
   "metadata": {},
   "outputs": [],
   "source": [
    "# This a simple arithmetic expression to mutiply then add integers\n",
    "(3*4)+5"
   ]
  },
  {
   "cell_type": "code",
   "execution_count": null,
   "metadata": {},
   "outputs": [],
   "source": [
    "# This will convert 200 minutes to hours by diving by 60\n",
    "minutes = 200\n",
    "hours = minutes / 60\n",
    "print(str(minutes) + \" minutes is equal to \" + str(hours) + \" hours.\")"
   ]
  },
  {
   "cell_type": "markdown",
   "metadata": {},
   "source": [
    "# Insert your objectives here"
   ]
  },
  {
   "cell_type": "markdown",
   "metadata": {},
   "source": [
    "Jose Rodriguez"
   ]
  }
 ],
 "metadata": {
  "kernelspec": {
   "display_name": "base",
   "language": "python",
   "name": "python3"
  },
  "language_info": {
   "codemirror_mode": {
    "name": "ipython",
    "version": 3
   },
   "file_extension": ".py",
   "mimetype": "text/x-python",
   "name": "python",
   "nbconvert_exporter": "python",
   "pygments_lexer": "ipython3",
   "version": "3.12.7"
  }
 },
 "nbformat": 4,
 "nbformat_minor": 2
}
